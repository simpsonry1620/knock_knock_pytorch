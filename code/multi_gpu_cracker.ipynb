{
 "cells": [
  {
   "cell_type": "markdown",
   "id": "ec1e01cf-cea9-4fc3-9b32-1b61d2313fc3",
   "metadata": {},
   "source": [
    "# Multi-GPU cracker"
   ]
  },
  {
   "cell_type": "code",
   "execution_count": 5,
   "id": "c30afda1-b967-4508-a848-410c68feb192",
   "metadata": {},
   "outputs": [
    {
     "name": "stdout",
     "output_type": "stream",
     "text": [
      "Using 2 GPUs\n",
      "Target password: Passwor\n",
      "Target hash: (872626857, 212205997291)\n",
      "Verifying target hash calculation:\n",
      "Target password tensor: tensor([[ 80,  97, 115, 115, 119, 111, 114]], device='cuda:0',\n",
      "       dtype=torch.int32)\n",
      "Recalculated hash: (872626857, 212205997291)\n",
      "Python verification: (872626923, 212205997291)\n",
      "Checking passwords of length 1\n",
      "Checking passwords of length 2\n",
      "Checking passwords of length 3\n",
      "Checking passwords of length 4\n",
      "Checking passwords of length 5\n",
      "Checking passwords of length 6\n",
      "Checking passwords of length 7\n",
      "Password found: Passwor\n",
      "Time taken: 2695.4216 seconds\n",
      "Total passwords checked: 2386820955636\n"
     ]
    }
   ],
   "source": [
    "! python3 multi_gpu_password_cracker.py Passwor"
   ]
  },
  {
   "cell_type": "code",
   "execution_count": 6,
   "id": "1b23e102-cb66-4581-865e-f397931b3ec7",
   "metadata": {},
   "outputs": [
    {
     "name": "stdout",
     "output_type": "stream",
     "text": [
      "Using 2 GPUs\n",
      "Target password: Passwo\n",
      "Target hash: (235970248, 5735297221)\n",
      "Verifying target hash calculation:\n",
      "Target password tensor: tensor([[ 80,  97, 115, 115, 119, 111]], device='cuda:0', dtype=torch.int32)\n",
      "Recalculated hash: (235970248, 5735297221)\n",
      "Python verification: (235970250, 5735297221)\n",
      "Checking passwords of length 1\n",
      "Checking passwords of length 2\n",
      "Checking passwords of length 3\n",
      "Checking passwords of length 4\n",
      "Checking passwords of length 5\n",
      "Checking passwords of length 6\n",
      "Password found: Passwo\n",
      "Time taken: 35.5601 seconds\n",
      "Total passwords checked: 38500484468\n"
     ]
    }
   ],
   "source": [
    "! python3 multi_gpu_password_cracker.py Passwo"
   ]
  },
  {
   "cell_type": "code",
   "execution_count": 7,
   "id": "ce394ca5-3c47-44b7-b42c-9fb45bcd1241",
   "metadata": {},
   "outputs": [
    {
     "name": "stdout",
     "output_type": "stream",
     "text": [
      "Using 2 GPUs\n",
      "Target password: Passw\n",
      "Target hash: (76885606, 155008030)\n",
      "Verifying target hash calculation:\n",
      "Target password tensor: tensor([[ 80,  97, 115, 115, 119]], device='cuda:0', dtype=torch.int32)\n",
      "Recalculated hash: (76885606, 155008030)\n",
      "Python verification: (76885606, 155008030)\n",
      "Checking passwords of length 1\n",
      "Checking passwords of length 2\n",
      "Checking passwords of length 3\n",
      "Checking passwords of length 4\n",
      "Checking passwords of length 5\n",
      "Password found: Passw\n",
      "Time taken: 0.8156 seconds\n",
      "Total passwords checked: 620484468\n"
     ]
    }
   ],
   "source": [
    "! python3 multi_gpu_password_cracker.py Passw"
   ]
  }
 ],
 "metadata": {
  "kernelspec": {
   "display_name": "Python 3 (ipykernel)",
   "language": "python",
   "name": "python3"
  },
  "language_info": {
   "codemirror_mode": {
    "name": "ipython",
    "version": 3
   },
   "file_extension": ".py",
   "mimetype": "text/x-python",
   "name": "python",
   "nbconvert_exporter": "python",
   "pygments_lexer": "ipython3",
   "version": "3.10.12"
  }
 },
 "nbformat": 4,
 "nbformat_minor": 5
}
